{
  "cells": [
    {
      "cell_type": "code",
      "execution_count": 1,
      "metadata": {
        "colab": {
          "base_uri": "https://localhost:8080/"
        },
        "id": "mvY34ZfBkuNN",
        "outputId": "e30bf5c0-82a6-4038-c073-51273d4756b4"
      },
      "outputs": [
        {
          "name": "stdout",
          "output_type": "stream",
          "text": [
            "Mounted at /content/gdrive\n"
          ]
        }
      ],
      "source": [
        "from google.colab import drive\n",
        "import os, glob\n",
        "import pathlib\n",
        "drive.mount(\"/content/gdrive\")"
      ]
    },
    {
      "cell_type": "code",
      "execution_count": 2,
      "metadata": {
        "colab": {
          "base_uri": "https://localhost:8080/"
        },
        "id": "ne2qa87TlCdh",
        "outputId": "51a2d4e0-f17b-43c4-8a3b-a0666a8f93bd"
      },
      "outputs": [
        {
          "name": "stdout",
          "output_type": "stream",
          "text": [
            "Cloning into 'penalizing_top_performers'...\n",
            "remote: Enumerating objects: 166, done.\u001b[K\n",
            "remote: Counting objects: 100% (166/166), done.\u001b[K\n",
            "remote: Compressing objects: 100% (95/95), done.\u001b[K\n",
            "remote: Total 166 (delta 102), reused 134 (delta 70), pack-reused 0\u001b[K\n",
            "Receiving objects: 100% (166/166), 44.31 KiB | 2.01 MiB/s, done.\n",
            "Resolving deltas: 100% (102/102), done.\n"
          ]
        }
      ],
      "source": [
        "!git clone https://github.com/scannnn/penalizing_top_performers.git"
      ]
    },
    {
      "cell_type": "code",
      "execution_count": 3,
      "metadata": {
        "colab": {
          "base_uri": "https://localhost:8080/"
        },
        "id": "uY0bQ6tXlQ3z",
        "outputId": "9e66c7c0-1ff5-49f0-b279-88b8f8fc3f32"
      },
      "outputs": [
        {
          "name": "stdout",
          "output_type": "stream",
          "text": [
            "/content/penalizing_top_performers\n"
          ]
        }
      ],
      "source": [
        "%cd penalizing_top_performers"
      ]
    },
    {
      "cell_type": "code",
      "execution_count": 4,
      "metadata": {
        "colab": {
          "base_uri": "https://localhost:8080/"
        },
        "id": "i9zRPeP5aYQE",
        "outputId": "78a43907-dd21-41d2-ea5e-3df5a0cf5c4a"
      },
      "outputs": [
        {
          "name": "stdout",
          "output_type": "stream",
          "text": [
            "Branch 'dev' set up to track remote branch 'dev' from 'origin'.\n",
            "Switched to a new branch 'dev'\n"
          ]
        }
      ],
      "source": [
        "!git checkout dev"
      ]
    },
    {
      "cell_type": "code",
      "execution_count": 5,
      "metadata": {
        "colab": {
          "base_uri": "https://localhost:8080/"
        },
        "id": "nrtTOOOZadNw",
        "outputId": "a24986a4-1c50-4f45-ebe8-7c5c2d87e758"
      },
      "outputs": [
        {
          "name": "stdout",
          "output_type": "stream",
          "text": [
            "Collecting tensorboardX\n",
            "  Downloading tensorboardX-2.4.1-py2.py3-none-any.whl (124 kB)\n",
            "\u001b[?25l\r\u001b[K     |██▋                             | 10 kB 17.8 MB/s eta 0:00:01\r\u001b[K     |█████▎                          | 20 kB 9.6 MB/s eta 0:00:01\r\u001b[K     |███████▉                        | 30 kB 8.0 MB/s eta 0:00:01\r\u001b[K     |██████████▌                     | 40 kB 7.5 MB/s eta 0:00:01\r\u001b[K     |█████████████▏                  | 51 kB 5.6 MB/s eta 0:00:01\r\u001b[K     |███████████████▊                | 61 kB 5.7 MB/s eta 0:00:01\r\u001b[K     |██████████████████▍             | 71 kB 5.4 MB/s eta 0:00:01\r\u001b[K     |█████████████████████           | 81 kB 6.1 MB/s eta 0:00:01\r\u001b[K     |███████████████████████▋        | 92 kB 6.0 MB/s eta 0:00:01\r\u001b[K     |██████████████████████████▎     | 102 kB 5.3 MB/s eta 0:00:01\r\u001b[K     |█████████████████████████████   | 112 kB 5.3 MB/s eta 0:00:01\r\u001b[K     |███████████████████████████████▌| 122 kB 5.3 MB/s eta 0:00:01\r\u001b[K     |████████████████████████████████| 124 kB 5.3 MB/s \n",
            "\u001b[?25hRequirement already satisfied: protobuf>=3.8.0 in /usr/local/lib/python3.7/dist-packages (from tensorboardX) (3.17.3)\n",
            "Requirement already satisfied: numpy in /usr/local/lib/python3.7/dist-packages (from tensorboardX) (1.19.5)\n",
            "Requirement already satisfied: six>=1.9 in /usr/local/lib/python3.7/dist-packages (from protobuf>=3.8.0->tensorboardX) (1.15.0)\n",
            "Installing collected packages: tensorboardX\n",
            "Successfully installed tensorboardX-2.4.1\n"
          ]
        }
      ],
      "source": [
        "!pip install tensorboardX"
      ]
    },
    {
      "cell_type": "code",
      "execution_count": 6,
      "metadata": {
        "colab": {
          "base_uri": "https://localhost:8080/"
        },
        "id": "uOs-inQ5agYX",
        "outputId": "5e7432fd-5a58-4e9f-9164-30519c217a3a"
      },
      "outputs": [
        {
          "name": "stdout",
          "output_type": "stream",
          "text": [
            "Collecting yacs\n",
            "  Downloading yacs-0.1.8-py3-none-any.whl (14 kB)\n",
            "Requirement already satisfied: PyYAML in /usr/local/lib/python3.7/dist-packages (from yacs) (3.13)\n",
            "Installing collected packages: yacs\n",
            "Successfully installed yacs-0.1.8\n"
          ]
        }
      ],
      "source": [
        "!pip install yacs"
      ]
    },
    {
      "cell_type": "code",
      "execution_count": 7,
      "metadata": {
        "id": "tt5JB-hrleNK"
      },
      "outputs": [],
      "source": [
        "from util.logger import Logger\n",
        "import utils\n",
        "from configs import cfg\n",
        "from torch.utils.data import DataLoader\n",
        "import torch\n",
        "from segmentation.trainer import Trainer\n",
        "from train_fcn8 import *\n",
        "from util.checkpoint import *\n",
        "import copy"
      ]
    },
    {
      "cell_type": "code",
      "execution_count": null,
      "metadata": {
        "colab": {
          "base_uri": "https://localhost:8080/",
          "height": 1000,
          "referenced_widgets": [
            "bf3a9e1623df4d069e4796566d9917ec",
            "ac41c55e2f294ad2975b82dcd5711647",
            "e7f18a856a01471cb69be8deac82fd35",
            "6820331ca4cb48a7b90ac12be11174ea",
            "39a03823213e4d3d802794e220a24370",
            "8c2ea3d507d24fb8b355223d0d4c9f9b",
            "96730357146a4dbebf2a23b5dcc040e2",
            "ced542bd165e4f3aaec3d8869b069f83",
            "cbb1d45f44db4a0ea4a66c298c8bfd7d",
            "57cc5e94c60c40ddb9f7f6e4832813d9",
            "e0d67fc462234379bc053d5309a72e14"
          ]
        },
        "id": "44bzEmpfPkQl",
        "outputId": "7270d2d3-b1ea-4923-fd1f-d4e41ba2bc5f"
      },
      "outputs": [],
      "source": [
        "source_img_path = \"/content/gdrive/MyDrive/AI_PROJECT(BLG_527E)/dataset/source/images\"\n",
        "source_label_path =\"/content/gdrive/MyDrive/AI_PROJECT(BLG_527E)/dataset/source/labels\"\n",
        "target_img_path = \"/content/gdrive/MyDrive/AI_PROJECT(BLG_527E)/dataset/target/images\"\n",
        "\n",
        "if __name__ == '__main__':\n",
        "    device = 'cuda'\n",
        "    batch_size = 1\n",
        "    n_classes = 19\n",
        "    num_epochs = 100\n",
        "    pretrained = True\n",
        "    fixed_feature = False\n",
        "    epoch = 0\n",
        "\n",
        "    logger = Logger(model_name=\"fcn8_vgg16\", data_name='gta5')\n",
        "\n",
        "    src_train_imgs = utils.read_path(source_img_path,\"png\")\n",
        "    src_train_labels = utils.read_path(source_label_path,\"png\")\n",
        "    target_train_imgs = utils.read_path(target_img_path,\"jpg\")\n",
        "\n",
        "    src_train_ds = utils.GTA5Dataset(cfg, src_train_imgs, src_train_labels)\n",
        "    trgt_train_ds = utils.Dataset(cfg, target_train_imgs)\n",
        "\n",
        "\n",
        "\n",
        "    src_train_loader = DataLoader(src_train_ds, batch_size=1, shuffle=True, drop_last=True)\n",
        "    tgt_train_loader = DataLoader(trgt_train_ds, batch_size=1, shuffle=True, drop_last=True)\n",
        "\n",
        "    ### Model\n",
        "    model = fcn8_vgg16(n_classes)\n",
        "    model.to(device)\n",
        "\n",
        "    ###Load model\n",
        "    ###please check the foloder: (.segmentation/test/runs/models)\n",
        "    #logger.load_model(model, 'epoch_3')\n",
        "\n",
        "    ### Optimizers\n",
        "    if pretrained and fixed_feature: #fine tunning\n",
        "        params_to_update = model.parameters()\n",
        "        print(\"Params to learn:\")\n",
        "        params_to_update = []\n",
        "        for name, param in model.named_parameters():\n",
        "            if param.requires_grad == True:\n",
        "                params_to_update.append(param)\n",
        "                print(\"\\t\", name)\n",
        "        optimizer = torch.optim.Adadelta(params_to_update)\n",
        "    else:\n",
        "        optimizer = torch.optim.Adadelta(model.parameters())\n",
        "\n",
        "    ### Train\n",
        "    #scheduler = torch.optim.lr_scheduler.StepLR(optimizer, step_size=10, gamma=0.1)\n",
        "    trainer = Trainer(model, optimizer, logger, num_epochs, src_train_loader, epoch=0)\n",
        "    trainer.train()"
      ]
    },
    {
      "cell_type": "code",
      "execution_count": null,
      "metadata": {
        "colab": {
          "base_uri": "https://localhost:8080/"
        },
        "id": "_Mkr2Rpq4RO2",
        "outputId": "bed15b42-1935-40a8-e4cf-1bcfb63bb0df"
      },
      "outputs": [],
      "source": [
        "%cd /content/\n",
        "!ls -l"
      ]
    },
    {
      "cell_type": "code",
      "execution_count": null,
      "metadata": {
        "id": "bOPI1H4GbTOL"
      },
      "outputs": [],
      "source": [
        "main(v2=True)"
      ]
    },
    {
      "cell_type": "code",
      "execution_count": 11,
      "metadata": {
        "id": "W3HnEZXsYJe-"
      },
      "outputs": [],
      "source": [
        "classifier_model = fcn8_vgg16(n_classes=19)"
      ]
    },
    {
      "cell_type": "code",
      "execution_count": 12,
      "metadata": {
        "id": "_NkLToJiDpGN"
      },
      "outputs": [],
      "source": [
        "hdl_chkpoint = CheckpointHandler()\n",
        "dir = '/content/gdrive/MyDrive/AI_PROJECT(BLG_527E)/fcn8vgg16_output/only_50/models/fcn8_vgg16/gta5/epoch_70'\n",
        "hdl_chkpoint = hdl_chkpoint.load_checkpoint(dir)\n",
        "\n",
        "classifier_model.load_state_dict(hdl_chkpoint.model_state_dict)\n",
        "if hasattr(hdl_chkpoint, '__dict__'):\n",
        "  for k in hdl_chkpoint.__dict__:\n",
        "    if k == 'model_state_dict' or k == 'optimizer_state_dict':\n",
        "      continue\n",
        "    attr_copy = copy.deepcopy(getattr(hdl_chkpoint, k))\n",
        "    setattr(classifier_model, k, attr_copy)"
      ]
    },
    {
      "cell_type": "code",
      "execution_count": 13,
      "metadata": {
        "id": "aMo2sf-6ESuQ"
      },
      "outputs": [],
      "source": [
        "import cv2\n",
        "import random\n",
        "import numpy as np\n",
        "import six"
      ]
    },
    {
      "cell_type": "code",
      "execution_count": 14,
      "metadata": {
        "id": "wBenQ3guEbRA"
      },
      "outputs": [],
      "source": [
        "class_colors = [(random.randint(0, 255), random.randint(\n",
        "    0, 255), random.randint(0, 255)) for _ in range(5000)]\n",
        "colormap = np.zeros((256, 3), dtype=np.uint8)\n",
        "colormap[0] = [128, 64, 128]\n",
        "colormap[1] = [244, 35, 232]\n",
        "colormap[2] = [70, 70, 70]\n",
        "colormap[3] = [102, 102, 156]\n",
        "colormap[4] = [190, 153, 153]\n",
        "colormap[5] = [153, 153, 153]\n",
        "colormap[6] = [250, 170, 30]\n",
        "colormap[7] = [220, 220, 0]\n",
        "colormap[8] = [107, 142, 35]\n",
        "colormap[9] = [152, 251, 152]\n",
        "colormap[10] = [70, 130, 180]\n",
        "colormap[11] = [220, 20, 60]\n",
        "colormap[12] = [255, 0, 0]\n",
        "colormap[13] = [0, 0, 142]\n",
        "colormap[14] = [0, 0, 70]\n",
        "colormap[15] = [0, 60, 100]\n",
        "colormap[16] = [0, 80, 100]\n",
        "colormap[17] = [0, 0, 230]\n",
        "colormap[18] = [119, 11, 32]"
      ]
    },
    {
      "cell_type": "code",
      "execution_count": 15,
      "metadata": {
        "id": "cJfKKJXzEpug"
      },
      "outputs": [],
      "source": [
        "def parent(path):\n",
        "\tpath = pathlib.Path(path)\n",
        "\treturn str(path.parent)\n",
        "\n",
        "def exist(path):\n",
        "\treturn os.path.exists(str(path))\n",
        "def mkdir(path):\n",
        "\tpathlib.Path(path).mkdir(parents=True, exist_ok=True)"
      ]
    },
    {
      "cell_type": "code",
      "execution_count": 16,
      "metadata": {
        "id": "AwbkZz64EjaB"
      },
      "outputs": [],
      "source": [
        "def convert_seg_gray_to_color(input, n_classes, output_path=None, colors=class_colors):\n",
        "\t\"\"\"\n",
        "\tConvert the segmented image on gray to color.\n",
        "\t:param input: it is available to get two type(ndarray, string), string type is a file path.\n",
        "\t:param n_classes: number of the classes.\n",
        "\t:param output_path: output path. if it is None, this function return result array(ndarray)\n",
        "\t:param colors: refer to 'class_colors' format. Default: random assigned color.\n",
        "\t:return: if out_path is None, return result array(ndarray)\n",
        "\t\"\"\"\n",
        "\tif isinstance(input, six.string_types):\n",
        "\t\tseg = cv2.imread(input, flags=cv2.IMREAD_GRAYSCALE)\n",
        "\telif type(input) is np.ndarray:\n",
        "\t\tassert len(input.shape) == 2, \"Input should be h,w \"\n",
        "\t\tseg = input\n",
        "\n",
        "\theight = seg.shape[0]\n",
        "\twidth = seg.shape[1]\n",
        "\n",
        "\tseg_img = np.zeros((height, width, 3))\n",
        "\n",
        "\tfor c in range(n_classes):\n",
        "\t\tseg_arr = seg[:, :] == c\n",
        "\t\tseg_img[:, :, 0] += ((seg_arr) * colors[c][0]).astype('uint8')\n",
        "\t\tseg_img[:, :, 1] += ((seg_arr) * colors[c][1]).astype('uint8')\n",
        "\t\tseg_img[:, :, 2] += ((seg_arr) * colors[c][2]).astype('uint8')\n",
        "\n",
        "\tif output_path:\n",
        "\t\tcv2.imwrite(output_path, seg_img)\n",
        "\telse:\n",
        "\t\treturn seg_img"
      ]
    },
    {
      "cell_type": "code",
      "execution_count": 28,
      "metadata": {
        "id": "JwQxklIZEMKZ"
      },
      "outputs": [],
      "source": [
        "def predict(model, input_path, output_path, colors=class_colors):\n",
        "    model.eval()\n",
        "\n",
        "    img = cv2.imread(input_path, flags=cv2.IMREAD_COLOR)\n",
        "    ori_height = img.shape[0]\n",
        "    ori_width = img.shape[1]\n",
        "\n",
        "    model_width = 1280\n",
        "    model_height = 720\n",
        "\n",
        "    if model_width != ori_width or model_height != ori_height:\n",
        "        img = cv2.resize(img, (model_width, model_height), interpolation=cv2.INTER_NEAREST)\n",
        "\n",
        "\n",
        "    data = img.transpose((2, 0, 1))\n",
        "    data = data[None, :, :, :]\n",
        "    data = torch.from_numpy(data).float()\n",
        "\n",
        "    if next(model.parameters()).is_cuda:\n",
        "        if not torch.cuda.is_available():\n",
        "            raise ValueError(\"A model was trained via .cuda(), but this system can not support cuda.\")\n",
        "        data = data.cuda()\n",
        "\n",
        "    score = model(data)\n",
        "\n",
        "    lbl_pred = score.data.max(1)[1].cpu().numpy()[:, :, :]\n",
        "    lbl_pred_ = lbl_pred.transpose((1, 2, 0))\n",
        "    n_classes = np.max(lbl_pred)\n",
        "    lbl_pred = lbl_pred_.reshape(model_height, model_width)\n",
        "\n",
        "    seg_img = convert_seg_gray_to_color(lbl_pred, n_classes, colors=colormap)\n",
        "\n",
        "    if model_width != ori_width or model_height != ori_height:\n",
        "        seg_img = cv2.resize(seg_img, (ori_width, ori_height), interpolation=cv2.INTER_NEAREST)\n",
        "\n",
        "    if not exist(parent(output_path)):\n",
        "        mkdir(parent(output_path))\n",
        "\n",
        "    cv2.imwrite(output_path, seg_img)\n",
        "\n",
        "    return lbl_pred"
      ]
    },
    {
      "cell_type": "code",
      "execution_count": null,
      "metadata": {
        "id": "78gAJOnpEZFE"
      },
      "outputs": [],
      "source": [
        "for i in range(0,100):\n",
        "    score = predict(classifier_model, \n",
        "        f\"/content/gdrive/MyDrive/AI_PROJECT(BLG_527E)/dataset/target/images/{i}.jpg\", \n",
        "        f'/content/labels/{i}.jpg')"
      ]
    }
  ],
  "metadata": {
    "accelerator": "GPU",
    "colab": {
      "collapsed_sections": [],
      "name": "train.ipynb",
      "provenance": []
    },
    "kernelspec": {
      "display_name": "Python 3",
      "name": "python3"
    },
    "language_info": {
      "name": "python"
    },
    "widgets": {
      "application/vnd.jupyter.widget-state+json": {
        "39a03823213e4d3d802794e220a24370": {
          "model_module": "@jupyter-widgets/controls",
          "model_module_version": "1.5.0",
          "model_name": "HTMLModel",
          "state": {
            "_dom_classes": [],
            "_model_module": "@jupyter-widgets/controls",
            "_model_module_version": "1.5.0",
            "_model_name": "HTMLModel",
            "_view_count": null,
            "_view_module": "@jupyter-widgets/controls",
            "_view_module_version": "1.5.0",
            "_view_name": "HTMLView",
            "description": "",
            "description_tooltip": null,
            "layout": "IPY_MODEL_e0d67fc462234379bc053d5309a72e14",
            "placeholder": "​",
            "style": "IPY_MODEL_57cc5e94c60c40ddb9f7f6e4832813d9",
            "value": " 528M/528M [00:04&lt;00:00, 107MB/s]"
          }
        },
        "57cc5e94c60c40ddb9f7f6e4832813d9": {
          "model_module": "@jupyter-widgets/controls",
          "model_module_version": "1.5.0",
          "model_name": "DescriptionStyleModel",
          "state": {
            "_model_module": "@jupyter-widgets/controls",
            "_model_module_version": "1.5.0",
            "_model_name": "DescriptionStyleModel",
            "_view_count": null,
            "_view_module": "@jupyter-widgets/base",
            "_view_module_version": "1.2.0",
            "_view_name": "StyleView",
            "description_width": ""
          }
        },
        "6820331ca4cb48a7b90ac12be11174ea": {
          "model_module": "@jupyter-widgets/controls",
          "model_module_version": "1.5.0",
          "model_name": "FloatProgressModel",
          "state": {
            "_dom_classes": [],
            "_model_module": "@jupyter-widgets/controls",
            "_model_module_version": "1.5.0",
            "_model_name": "FloatProgressModel",
            "_view_count": null,
            "_view_module": "@jupyter-widgets/controls",
            "_view_module_version": "1.5.0",
            "_view_name": "ProgressView",
            "bar_style": "success",
            "description": "",
            "description_tooltip": null,
            "layout": "IPY_MODEL_cbb1d45f44db4a0ea4a66c298c8bfd7d",
            "max": 553433881,
            "min": 0,
            "orientation": "horizontal",
            "style": "IPY_MODEL_ced542bd165e4f3aaec3d8869b069f83",
            "value": 553433881
          }
        },
        "8c2ea3d507d24fb8b355223d0d4c9f9b": {
          "model_module": "@jupyter-widgets/controls",
          "model_module_version": "1.5.0",
          "model_name": "DescriptionStyleModel",
          "state": {
            "_model_module": "@jupyter-widgets/controls",
            "_model_module_version": "1.5.0",
            "_model_name": "DescriptionStyleModel",
            "_view_count": null,
            "_view_module": "@jupyter-widgets/base",
            "_view_module_version": "1.2.0",
            "_view_name": "StyleView",
            "description_width": ""
          }
        },
        "96730357146a4dbebf2a23b5dcc040e2": {
          "model_module": "@jupyter-widgets/base",
          "model_module_version": "1.2.0",
          "model_name": "LayoutModel",
          "state": {
            "_model_module": "@jupyter-widgets/base",
            "_model_module_version": "1.2.0",
            "_model_name": "LayoutModel",
            "_view_count": null,
            "_view_module": "@jupyter-widgets/base",
            "_view_module_version": "1.2.0",
            "_view_name": "LayoutView",
            "align_content": null,
            "align_items": null,
            "align_self": null,
            "border": null,
            "bottom": null,
            "display": null,
            "flex": null,
            "flex_flow": null,
            "grid_area": null,
            "grid_auto_columns": null,
            "grid_auto_flow": null,
            "grid_auto_rows": null,
            "grid_column": null,
            "grid_gap": null,
            "grid_row": null,
            "grid_template_areas": null,
            "grid_template_columns": null,
            "grid_template_rows": null,
            "height": null,
            "justify_content": null,
            "justify_items": null,
            "left": null,
            "margin": null,
            "max_height": null,
            "max_width": null,
            "min_height": null,
            "min_width": null,
            "object_fit": null,
            "object_position": null,
            "order": null,
            "overflow": null,
            "overflow_x": null,
            "overflow_y": null,
            "padding": null,
            "right": null,
            "top": null,
            "visibility": null,
            "width": null
          }
        },
        "ac41c55e2f294ad2975b82dcd5711647": {
          "model_module": "@jupyter-widgets/base",
          "model_module_version": "1.2.0",
          "model_name": "LayoutModel",
          "state": {
            "_model_module": "@jupyter-widgets/base",
            "_model_module_version": "1.2.0",
            "_model_name": "LayoutModel",
            "_view_count": null,
            "_view_module": "@jupyter-widgets/base",
            "_view_module_version": "1.2.0",
            "_view_name": "LayoutView",
            "align_content": null,
            "align_items": null,
            "align_self": null,
            "border": null,
            "bottom": null,
            "display": null,
            "flex": null,
            "flex_flow": null,
            "grid_area": null,
            "grid_auto_columns": null,
            "grid_auto_flow": null,
            "grid_auto_rows": null,
            "grid_column": null,
            "grid_gap": null,
            "grid_row": null,
            "grid_template_areas": null,
            "grid_template_columns": null,
            "grid_template_rows": null,
            "height": null,
            "justify_content": null,
            "justify_items": null,
            "left": null,
            "margin": null,
            "max_height": null,
            "max_width": null,
            "min_height": null,
            "min_width": null,
            "object_fit": null,
            "object_position": null,
            "order": null,
            "overflow": null,
            "overflow_x": null,
            "overflow_y": null,
            "padding": null,
            "right": null,
            "top": null,
            "visibility": null,
            "width": null
          }
        },
        "bf3a9e1623df4d069e4796566d9917ec": {
          "model_module": "@jupyter-widgets/controls",
          "model_module_version": "1.5.0",
          "model_name": "HBoxModel",
          "state": {
            "_dom_classes": [],
            "_model_module": "@jupyter-widgets/controls",
            "_model_module_version": "1.5.0",
            "_model_name": "HBoxModel",
            "_view_count": null,
            "_view_module": "@jupyter-widgets/controls",
            "_view_module_version": "1.5.0",
            "_view_name": "HBoxView",
            "box_style": "",
            "children": [
              "IPY_MODEL_e7f18a856a01471cb69be8deac82fd35",
              "IPY_MODEL_6820331ca4cb48a7b90ac12be11174ea",
              "IPY_MODEL_39a03823213e4d3d802794e220a24370"
            ],
            "layout": "IPY_MODEL_ac41c55e2f294ad2975b82dcd5711647"
          }
        },
        "cbb1d45f44db4a0ea4a66c298c8bfd7d": {
          "model_module": "@jupyter-widgets/base",
          "model_module_version": "1.2.0",
          "model_name": "LayoutModel",
          "state": {
            "_model_module": "@jupyter-widgets/base",
            "_model_module_version": "1.2.0",
            "_model_name": "LayoutModel",
            "_view_count": null,
            "_view_module": "@jupyter-widgets/base",
            "_view_module_version": "1.2.0",
            "_view_name": "LayoutView",
            "align_content": null,
            "align_items": null,
            "align_self": null,
            "border": null,
            "bottom": null,
            "display": null,
            "flex": null,
            "flex_flow": null,
            "grid_area": null,
            "grid_auto_columns": null,
            "grid_auto_flow": null,
            "grid_auto_rows": null,
            "grid_column": null,
            "grid_gap": null,
            "grid_row": null,
            "grid_template_areas": null,
            "grid_template_columns": null,
            "grid_template_rows": null,
            "height": null,
            "justify_content": null,
            "justify_items": null,
            "left": null,
            "margin": null,
            "max_height": null,
            "max_width": null,
            "min_height": null,
            "min_width": null,
            "object_fit": null,
            "object_position": null,
            "order": null,
            "overflow": null,
            "overflow_x": null,
            "overflow_y": null,
            "padding": null,
            "right": null,
            "top": null,
            "visibility": null,
            "width": null
          }
        },
        "ced542bd165e4f3aaec3d8869b069f83": {
          "model_module": "@jupyter-widgets/controls",
          "model_module_version": "1.5.0",
          "model_name": "ProgressStyleModel",
          "state": {
            "_model_module": "@jupyter-widgets/controls",
            "_model_module_version": "1.5.0",
            "_model_name": "ProgressStyleModel",
            "_view_count": null,
            "_view_module": "@jupyter-widgets/base",
            "_view_module_version": "1.2.0",
            "_view_name": "StyleView",
            "bar_color": null,
            "description_width": ""
          }
        },
        "e0d67fc462234379bc053d5309a72e14": {
          "model_module": "@jupyter-widgets/base",
          "model_module_version": "1.2.0",
          "model_name": "LayoutModel",
          "state": {
            "_model_module": "@jupyter-widgets/base",
            "_model_module_version": "1.2.0",
            "_model_name": "LayoutModel",
            "_view_count": null,
            "_view_module": "@jupyter-widgets/base",
            "_view_module_version": "1.2.0",
            "_view_name": "LayoutView",
            "align_content": null,
            "align_items": null,
            "align_self": null,
            "border": null,
            "bottom": null,
            "display": null,
            "flex": null,
            "flex_flow": null,
            "grid_area": null,
            "grid_auto_columns": null,
            "grid_auto_flow": null,
            "grid_auto_rows": null,
            "grid_column": null,
            "grid_gap": null,
            "grid_row": null,
            "grid_template_areas": null,
            "grid_template_columns": null,
            "grid_template_rows": null,
            "height": null,
            "justify_content": null,
            "justify_items": null,
            "left": null,
            "margin": null,
            "max_height": null,
            "max_width": null,
            "min_height": null,
            "min_width": null,
            "object_fit": null,
            "object_position": null,
            "order": null,
            "overflow": null,
            "overflow_x": null,
            "overflow_y": null,
            "padding": null,
            "right": null,
            "top": null,
            "visibility": null,
            "width": null
          }
        },
        "e7f18a856a01471cb69be8deac82fd35": {
          "model_module": "@jupyter-widgets/controls",
          "model_module_version": "1.5.0",
          "model_name": "HTMLModel",
          "state": {
            "_dom_classes": [],
            "_model_module": "@jupyter-widgets/controls",
            "_model_module_version": "1.5.0",
            "_model_name": "HTMLModel",
            "_view_count": null,
            "_view_module": "@jupyter-widgets/controls",
            "_view_module_version": "1.5.0",
            "_view_name": "HTMLView",
            "description": "",
            "description_tooltip": null,
            "layout": "IPY_MODEL_96730357146a4dbebf2a23b5dcc040e2",
            "placeholder": "​",
            "style": "IPY_MODEL_8c2ea3d507d24fb8b355223d0d4c9f9b",
            "value": "100%"
          }
        }
      }
    }
  },
  "nbformat": 4,
  "nbformat_minor": 0
}
